{
 "metadata": {
  "name": "",
  "signature": "sha256:afb8bcff25b5a328f59b694348455300a3487259facce6045cadf787424c165c"
 },
 "nbformat": 3,
 "nbformat_minor": 0,
 "worksheets": [
  {
   "cells": [
    {
     "cell_type": "code",
     "collapsed": true,
     "input": [
      "keypad=[[1,2,3],[4,5,6],[7,8,9]]\n",
      "def kp_move(position,ditherings):\n",
      "    r,c = position\n",
      "    for char in ditherings:\n",
      "        if 'U' == char:\n",
      "            r = max(0, r-1)\n",
      "        elif 'D' == char:\n",
      "            r = min(2, r+1)\n",
      "        elif 'R' == char:\n",
      "            c = min(2, r+1)\n",
      "        else:\n",
      "            c = max(0, c-1)\n",
      "        return(r,c)\n",
      "def shownum(position):\n",
      "    r,c = position\n",
      "    return(keypad[r][c])"
     ],
     "language": "python",
     "metadata": {},
     "outputs": [],
     "prompt_number": 1
    },
    {
     "cell_type": "code",
     "collapsed": false,
     "input": [
      "press=[(1,1)] # Start on the 5\n",
      "with open('input02.txt') as F:\n",
      "    for line in F.readlines():\n",
      "        nextnum = kp_move(press[-1],line.strip())\n",
      "        press.append(nextnum)"
     ],
     "language": "python",
     "metadata": {},
     "outputs": [],
     "prompt_number": 2
    },
    {
     "cell_type": "code",
     "collapsed": true,
     "input": [
      "# Part One: Print the bathroom code\n",
      "for x in press[1:]:\n",
      "    print(shownum(x))"
     ],
     "language": "python",
     "metadata": {},
     "outputs": [
      {
       "output_type": "stream",
       "stream": "stdout",
       "text": [
        "4\n",
        "1\n",
        "1\n",
        "2\n",
        "2\n"
       ]
      }
     ],
     "prompt_number": 3
    }
   ],
   "metadata": {}
  }
 ]
}
