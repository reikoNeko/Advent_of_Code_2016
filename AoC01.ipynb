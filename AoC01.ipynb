{
 "metadata": {
  "name": "",
  "signature": "sha256:8a87b677e0bcd9eb2c29bdf482d9ea28a0e25fcbfb6a325e4efc8cc7fead89f7"
 },
 "nbformat": 3,
 "nbformat_minor": 0,
 "worksheets": [
  {
   "cells": [
    {
     "cell_type": "code",
     "collapsed": false,
     "input": [
      "hops='R5, R4, R2, L3, R1, R1, L4, L5, R3, L1, L1, R4, L2, R1, R4, R4, L2, L2, R4, L4, R1, R3, L3, L1, L2, R1, R5, L5, L1, L1, R3, R5, L1, R4, L5, R5, R1, L185, R4, L1, R51, R3, L2, R78, R1, L4, R188, R1, L5, R5, R2, R3, L5, R3, R4, L1, R2, R2, L4, L4, L5, R5, R4, L4, R2, L5, R2, L1, L4, R4, L4, R2, L3, L4, R2, L3, R3, R2, L2, L3, R4, R3, R1, L4, L2, L5, R4, R4, L1, R1, L5, L1, R3, R1, L2, R1, R1, R3, L4, L1, L3, R2, R4, R2, L2, R1, L5, R3, L3, R3, L1, R4, L3, L3, R4, L2, L1, L3, R2, R3, L2, L1, R4, L3, L5, L2, L4, R1, L4, L4, R3, R5, L4, L1, L1, R4, L2, R5, R1, R1, R2, R1, R5, L1, L3, L5, R2'.split(', ')"
     ],
     "language": "python",
     "metadata": {},
     "outputs": [],
     "prompt_number": 1
    },
    {
     "cell_type": "code",
     "collapsed": false,
     "input": [
      "moves=[(0,0)]\n",
      "facing=0 # Start by facing North \n",
      "turn={'R':1,'L':-1}\n",
      "cart=[(1,0),(0,1),(-1,0),(0,-1)] # NESW\n",
      "\n",
      "for h in hops:\n",
      "    (t,dist) = (h[:1],int(h[1:]))\n",
      "    facing = (facing+turn[t])%4\n",
      "    vector=(dist*cart[facing][0], dist*cart[facing][1])\n",
      "    moves.append(tuple([a+b for a,b in zip(moves[-1],vector)]))\n",
      "    #print(moves[-1])"
     ],
     "language": "python",
     "metadata": {},
     "outputs": [],
     "prompt_number": 2
    },
    {
     "cell_type": "code",
     "collapsed": false,
     "input": [
      "# Part one result: Print final location\n",
      "moves[-1]"
     ],
     "language": "python",
     "metadata": {},
     "outputs": [
      {
       "metadata": {},
       "output_type": "pyout",
       "prompt_number": 3,
       "text": [
        "(-127, 104)"
       ]
      }
     ],
     "prompt_number": 3
    },
    {
     "cell_type": "code",
     "collapsed": false,
     "input": [
      "# Part two result: What's the first location visited twice:\n",
      "[ m for m in moves if moves.count(m)>1]"
     ],
     "language": "python",
     "metadata": {},
     "outputs": [
      {
       "metadata": {},
       "output_type": "pyout",
       "prompt_number": 4,
       "text": [
        "[(-115, 100),\n",
        " (-115, 97),\n",
        " (-115, 100),\n",
        " (-115, 97),\n",
        " (-122, 111),\n",
        " (-123, 115),\n",
        " (-123, 115),\n",
        " (-122, 111)]"
       ]
      }
     ],
     "prompt_number": 4
    }
   ],
   "metadata": {}
  }
 ]
}
